{
 "cells": [
  {
   "cell_type": "code",
   "execution_count": 1,
   "id": "c60cc33b",
   "metadata": {},
   "outputs": [],
   "source": [
    "##Building a vectordb\n",
    "from langchain_chroma import Chroma \n",
    "from langchain_community.document_loaders import TextLoader\n",
    "from langchain_community.vectorstores import FAISS\n",
    "from langchain_community.embeddings import OllamaEmbeddings\n",
    "from langchain_text_splitters import RecursiveCharacterTextSplitter"
   ]
  },
  {
   "cell_type": "code",
   "execution_count": 2,
   "id": "fbc0199b",
   "metadata": {},
   "outputs": [
    {
     "data": {
      "text/plain": [
       "[Document(metadata={'source': 'speech.txt'}, page_content='\"Your time is limited, so don’t waste it living someone else’s life.\\n\\nDon’t be trapped by dogma — which is living with the results of other people’s thinking. Don’t let the noise of others’ opinions drown out your own inner voice. And most important, have the courage to follow your heart and intuition.\\n\\nThey somehow already know what you truly want to become. Everything else is secondary.\\n\\nWhen I was 17, I read a quote that went something like:\\nIf you live each day as if it was your last, someday you’ll most certainly be right.\"')]"
      ]
     },
     "execution_count": 2,
     "metadata": {},
     "output_type": "execute_result"
    }
   ],
   "source": [
    "loader=TextLoader(\"speech.txt\") \n",
    "data=loader.load()\n",
    "data"
   ]
  },
  {
   "cell_type": "code",
   "execution_count": 3,
   "id": "3d57e07d",
   "metadata": {},
   "outputs": [],
   "source": [
    "#SPlit\n",
    "text_splitter=RecursiveCharacterTextSplitter(chunk_size=500,chunk_overlap=0)\n",
    "splits=text_splitter.split_documents(data)"
   ]
  },
  {
   "cell_type": "code",
   "execution_count": 4,
   "id": "cccc0211",
   "metadata": {},
   "outputs": [
    {
     "name": "stderr",
     "output_type": "stream",
     "text": [
      "C:\\Users\\user\\AppData\\Local\\Temp\\ipykernel_18436\\533675856.py:1: LangChainDeprecationWarning: The class `OllamaEmbeddings` was deprecated in LangChain 0.3.1 and will be removed in 1.0.0. An updated version of the class exists in the :class:`~langchain-ollama package and should be used instead. To use it run `pip install -U :class:`~langchain-ollama` and import as `from :class:`~langchain_ollama import OllamaEmbeddings``.\n",
      "  embeddings=OllamaEmbeddings()\n"
     ]
    },
    {
     "data": {
      "text/plain": [
       "<langchain_chroma.vectorstores.Chroma at 0x201c1e4f0a0>"
      ]
     },
     "execution_count": 4,
     "metadata": {},
     "output_type": "execute_result"
    }
   ],
   "source": [
    "embeddings=OllamaEmbeddings()\n",
    "vecotrdb=Chroma.from_documents(documents=splits,embedding=embeddings)\n",
    "vecotrdb"
   ]
  },
  {
   "cell_type": "code",
   "execution_count": 5,
   "id": "029d7fa7",
   "metadata": {},
   "outputs": [
    {
     "data": {
      "text/plain": [
       "'When I was 17, I read a quote that went something like:\\nIf you live each day as if it was your last, someday you’ll most certainly be right.\"'"
      ]
     },
     "execution_count": 5,
     "metadata": {},
     "output_type": "execute_result"
    }
   ],
   "source": [
    "## query it \n",
    "query=\"At what age did the speaker read the quote about living each day as if it were your last?\"\n",
    "docs=vecotrdb.similarity_search(query)\n",
    "docs[0].page_content"
   ]
  },
  {
   "cell_type": "code",
   "execution_count": 6,
   "id": "bc8cc783",
   "metadata": {},
   "outputs": [],
   "source": [
    "## Save \n",
    "vectordb=Chroma.from_documents(documents=splits,embedding=embeddings,persist_directory=\"./chroma_db\")"
   ]
  },
  {
   "cell_type": "code",
   "execution_count": 7,
   "id": "5b9f2c04",
   "metadata": {},
   "outputs": [
    {
     "data": {
      "text/plain": [
       "'When I was 17, I read a quote that went something like:\\nIf you live each day as if it was your last, someday you’ll most certainly be right.\"'"
      ]
     },
     "execution_count": 7,
     "metadata": {},
     "output_type": "execute_result"
    }
   ],
   "source": [
    "##Load \n",
    "\n",
    "db2=Chroma(persist_directory=\"./chroma_db\",embedding_function=embeddings)\n",
    "docs=db2.similarity_search(query)\n",
    "docs[0].page_content"
   ]
  },
  {
   "cell_type": "code",
   "execution_count": 8,
   "id": "814c1723",
   "metadata": {},
   "outputs": [
    {
     "data": {
      "text/plain": [
       "[(Document(id='eb6b41d8-bf21-4867-acb8-d2c8f43d0b47', metadata={'source': 'speech.txt'}, page_content='When I was 17, I read a quote that went something like:\\nIf you live each day as if it was your last, someday you’ll most certainly be right.\"'),\n",
       "  13838.287109375),\n",
       " (Document(id='e3d335d5-98c1-48b5-aeef-5e70ab26b11c', metadata={'source': 'speech.txt'}, page_content='\"Your time is limited, so don’t waste it living someone else’s life.\\n\\nDon’t be trapped by dogma — which is living with the results of other people’s thinking. Don’t let the noise of others’ opinions drown out your own inner voice. And most important, have the courage to follow your heart and intuition.\\n\\nThey somehow already know what you truly want to become. Everything else is secondary.'),\n",
       "  21286.21484375)]"
      ]
     },
     "execution_count": 8,
     "metadata": {},
     "output_type": "execute_result"
    }
   ],
   "source": [
    "##Similarity search with score \n",
    "docs=vectordb.similarity_search_with_score(query)\n",
    "docs"
   ]
  },
  {
   "cell_type": "code",
   "execution_count": 10,
   "id": "32ccc579",
   "metadata": {},
   "outputs": [
    {
     "data": {
      "text/plain": [
       "'When I was 17, I read a quote that went something like:\\nIf you live each day as if it was your last, someday you’ll most certainly be right.\"'"
      ]
     },
     "execution_count": 10,
     "metadata": {},
     "output_type": "execute_result"
    }
   ],
   "source": [
    "## retriever Option\n",
    "retriever=vectordb.as_retriever() \n",
    "retriever.invoke(query)[0].page_content"
   ]
  },
  {
   "cell_type": "code",
   "execution_count": null,
   "id": "f0163ef8",
   "metadata": {},
   "outputs": [],
   "source": []
  }
 ],
 "metadata": {
  "kernelspec": {
   "display_name": "Python 3",
   "language": "python",
   "name": "python3"
  },
  "language_info": {
   "codemirror_mode": {
    "name": "ipython",
    "version": 3
   },
   "file_extension": ".py",
   "mimetype": "text/x-python",
   "name": "python",
   "nbconvert_exporter": "python",
   "pygments_lexer": "ipython3",
   "version": "3.10.0"
  }
 },
 "nbformat": 4,
 "nbformat_minor": 5
}
